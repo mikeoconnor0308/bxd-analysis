{
 "cells": [
  {
   "cell_type": "code",
   "execution_count": 142,
   "metadata": {
    "collapsed": true
   },
   "outputs": [],
   "source": [
    "import pandas as pd\n",
    "import numpy as np\n",
    "from matplotlib import pyplot as plt\n",
    "import seaborn as sns\n",
    "import math"
   ]
  },
  {
   "cell_type": "code",
   "execution_count": 144,
   "metadata": {
    "collapsed": true
   },
   "outputs": [],
   "source": [
    "# gas phase\n",
    "#path = r\"C:\\Users\\Mike.DESKTOP-CA70LTI\\Google Drive\\PhD\\BXD\\applications\\EVB_HF\\rxnSystemOnly\\jacobian\\20_friction\\analysis\\FPT_arrays\"\n",
    "# solvent phase\n",
    "path = r\"C:\\Users\\Mike.DESKTOP-CA70LTI\\Google Drive\\PhD\\BXD\\applications\\EVB_HF\\solvent\\jacobian_invert\\bxd_runs\" \\\n",
    "       r\"\\box_runs\\trajectories\\analysis_final\\FPT_arrays\""
   ]
  },
  {
   "cell_type": "code",
   "execution_count": 230,
   "metadata": {},
   "outputs": [
    {
     "name": "stdout",
     "output_type": "stream",
     "text": [
      "Number of boxes 12\nnum fpts forward for box 0: 585\nstd forward for box 0: 3.2657519127966568\nstd error forward for box 0: 0.1350222239126444\nnum fpts backward for box 0: 26995\nstd backward for box 0: 0.07188215511891936\nstd error backward for box 0: 0.00043750137615915165\nnum fpts forward for box 1: 21030\nstd forward for box 1: 0.18891090606226874\nstd error forward for box 1: 0.001302678947693567\nnum fpts backward for box 1: 835\nstd backward for box 1: 3.587249577624485\nstd error backward for box 1: 0.12414189067578815\n"
     ]
    },
    {
     "name": "stdout",
     "output_type": "stream",
     "text": [
      "num fpts forward for box 2: 268327\nstd forward for box 2: 0.0010404579471203395\nstd error forward for box 2: 2.0085948469927652e-06\nnum fpts backward for box 2: 2218\nstd backward for box 2: 0.6673049293606893\nstd error backward for box 2: 0.014169142305201369\nnum fpts forward for box 3: 128168\nstd forward for box 3: 0.0008637933366656626\nstd error forward for box 3: 2.412792897991342e-06\nnum fpts backward for box 3: 1429\nstd backward for box 3: 1.7130298260635803\nstd error backward for box 3: 0.04531571223489472\n"
     ]
    },
    {
     "name": "stdout",
     "output_type": "stream",
     "text": [
      "num fpts forward for box 4: 270043\nstd forward for box 4: 0.0018865394435851935\nstd error forward for box 4: 3.6303577794327066e-06\nnum fpts backward for box 4: 1813\nstd backward for box 4: 0.6676185254255039\nstd error backward for box 4: 0.015679401355178396\nnum fpts forward for box 5: 152363\nstd forward for box 5: 0.002864293611378308\nstd error forward for box 5: 7.338001170624977e-06\nnum fpts backward for box 5: 1409\nstd backward for box 5: 0.46139124015760097\nstd error backward for box 5: 0.012291753670637203\n"
     ]
    },
    {
     "name": "stdout",
     "output_type": "stream",
     "text": [
      "num fpts forward for box 6: 63796\nstd forward for box 6: 0.0038958584714704554\nstd error forward for box 6: 1.5424334918651775e-05\nnum fpts backward for box 6: 308\nstd backward for box 6: 5.518125758641743\nstd error backward for box 6: 0.314424396215795\n         FPT  Box Direction\n0     0.0192    7  Backward\n1    41.5441    7  Backward\n2     0.0262    7  Backward\n3     0.0280    7  Backward\n4    62.3335    7  Backward\n5     0.0246    7  Backward\n6     0.0285    7  Backward\n7    15.4755    7  Backward\n8     6.5918    7  Backward\n9    62.0477    7  Backward\n10    0.0225    7  Backward\n11   34.7358    7  Backward\n12    3.8825    7  Backward\n13    4.0181    7  Backward\n14    0.8709    7  Backward\n15    0.1405    7  Backward\n16   30.0920    7  Backward\n17   13.0201    7  Backward\n18    0.0243    7  Backward\n19    0.0298    7  Backward\n20   29.5904    7  Backward\n21   34.9052    7  Backward\n22   23.0616    7  Backward\n23   46.2346    7  Backward\n24   29.4086    7  Backward\n25    2.9246    7  Backward\n26   39.1997    7  Backward\n27    0.0243    7  Backward\n28    1.1921    7  Backward\n29   29.6126    7  Backward\n30    0.7496    7  Backward\n31    1.4571    7  Backward\n32  119.8327    7  Backward\n33    4.1106    7  Backward\n34   16.7870    7  Backward\n35   86.6697    7  Backward\n36    2.5554    7  Backward\n37   43.6914    7  Backward\n38   67.9398    7  Backward\n39    6.7722    7  Backward\n40    6.2422    7  Backward\n41   57.9259    7  Backward\n42   17.5307    7  Backward\n43    3.7153    7  Backward\n44   10.4458    7  Backward\n45   11.0375    7  Backward\n46   48.1951    7  Backward\n47    4.1900    7  Backward\n48   18.6698    7  Backward\n49   72.4824    7  Backward\n50    0.0214    7  Backward\n51   25.9275    7  Backward\n52   25.8718    7  Backward\nnum fpts forward for box 7: 145185\nstd forward for box 7: 0.005536902873917238\nstd error forward for box 7: 1.4531352263640187e-05\nnum fpts backward for box 7: 53\nstd backward for box 7: 26.253237488985206\nstd error backward for box 7: 3.6061595069658727\n"
     ]
    },
    {
     "name": "stdout",
     "output_type": "stream",
     "text": [
      "num fpts forward for box 8: 99585\nstd forward for box 8: 0.007463370851847077\nstd error forward for box 8: 2.3650376466264533e-05\nnum fpts backward for box 8: 1409\nstd backward for box 8: 0.8672643335294778\nstd error backward for box 8: 0.023104468891590572\nnum fpts forward for box 9: 46206\nstd forward for box 9: 0.012164098655581617\nstd error forward for box 9: 5.6588834183414945e-05\nnum fpts backward for box 9: 756\nstd backward for box 9: 2.433939767721799\nstd error backward for box 9: 0.08852153351228872\nnum fpts forward for box 10: 16323\nstd forward for box 10: 0.12984577871170527\nstd error forward for box 10: 0.0010163138521444644\nnum fpts backward for box 10: 4042\nstd backward for box 10: 1.3520393602002831\nstd error backward for box 10: 0.02126626298852197\n"
     ]
    },
    {
     "name": "stdout",
     "output_type": "stream",
     "text": [
      "num fpts forward for box 11: 2201\nstd forward for box 11: 1.0168213817503835\nstd error forward for box 11: 0.021673779400163275\nnum fpts backward for box 11: 5397\nstd backward for box 11: 0.37213598497168326\nstd error backward for box 11: 0.00506553661181309\n"
     ]
    }
   ],
   "source": [
    "allBoxes = pd.DataFrame() #creates a new dataframe that's empty\n",
    "mfpts_fwd = []\n",
    "mfpts_bwd = [] \n",
    "std_fwd = [] \n",
    "std_bwd = []\n",
    "import glob \n",
    "import ntpath\n",
    "files = glob.glob(path+\"\\\\\" + \"*.txt\")\n",
    "# total hack to work out \n",
    "max_box = max([int(ntpath.basename(f).split(\".\")[0].split(\"to\")[1]) for f in files]) -1\n",
    "print('Number of boxes', max_box)\n",
    "for box in range(0, max_box):\n",
    "    box_forward = \"{}to{}\".format(box, box + 1)\n",
    "    box_back = \"{}to{}\".format(box+1, box)\n",
    "    fwd_fpts = pd.read_csv(path + \"\\\\\" + box_forward + \".txt\", header=None,\n",
    "                           names=['FPT']).assign(Direction=\"Forward\", Box=box)\n",
    "    bkd_fpts = pd.read_csv(path + \"\\\\\" + box_back + \".txt\", header=None,\n",
    "                           names=['FPT']).assign(Direction=\"Backward\", Box=box)\n",
    "    # multiply by 0.1 for fs, then 0.001 for ps\n",
    "    fwd_fpts['FPT'] = fwd_fpts['FPT'].apply(lambda x: x * 0.1 * 0.001)   \n",
    "    bkd_fpts['FPT'] = bkd_fpts['FPT'].apply(lambda x: x * 0.1 * 0.001) \n",
    " \n",
    "    mfpts_fwd.append(np.mean(fwd_fpts[\"FPT\"]))\n",
    "    mfpts_bwd.append(np.mean(bkd_fpts[\"FPT\"]))\n",
    "    \n",
    "    std_fwd.append(np.std(fwd_fpts[\"FPT\"]) / math.sqrt(float(len(fwd_fpts))))\n",
    "    std_bwd.append(np.std(bkd_fpts[\"FPT\"]) / math.sqrt(float(len(bkd_fpts))))\n",
    "    \n",
    "    # standard error\n",
    "    #if(box == 7): \n",
    "    #    print(bkd_fpts)\n",
    "    #print(\"num fpts forward for box {}: {}\".format(box,len(fwd_fpts)))\n",
    "    #print(\"std forward for box {}: {}\".format(box,np.std(fwd_fpts[\"FPT\"])))\n",
    "    #print(\"std error forward for box {}: {}\".format(box,std_fwd[-1]))\n",
    "    #print(\"num fpts backward for box {}: {}\".format(box,len(bkd_fpts)))\n",
    "    #print(\"std backward for box {}: {}\".format(box,np.std(bkd_fpts[\"FPT\"])))\n",
    "    #print(\"std error backward for box {}: {}\".format(box,std_bwd[-1]))\n",
    "\n",
    "\n",
    "    # standard deviation\n",
    "    #std_fwd.append(np.std(fwd_fpts[\"FPT\"]))\n",
    "    #std_bwd.append(np.std(bkd_fpts[\"FPT\"]))\n",
    "    \n",
    "    allBoxes = pd.concat([allBoxes, fwd_fpts, bkd_fpts])\n",
    "    "
   ]
  },
  {
   "cell_type": "code",
   "execution_count": 204,
   "metadata": {},
   "outputs": [
    {
     "data": {
      "text/html": [
       "<div>\n",
       "<style>\n",
       "    .dataframe thead tr:only-child th {\n",
       "        text-align: right;\n",
       "    }\n",
       "\n",
       "    .dataframe thead th {\n",
       "        text-align: left;\n",
       "    }\n",
       "\n",
       "    .dataframe tbody tr th {\n",
       "        vertical-align: top;\n",
       "    }\n",
       "</style>\n",
       "<table border=\"1\" class=\"dataframe\">\n",
       "  <thead>\n",
       "    <tr style=\"text-align: right;\">\n",
       "      <th></th>\n",
       "      <th>Box</th>\n",
       "      <th>Direction</th>\n",
       "      <th>variable</th>\n",
       "      <th>FPT (ps)</th>\n",
       "    </tr>\n",
       "  </thead>\n",
       "  <tbody>\n",
       "    <tr>\n",
       "      <th>0</th>\n",
       "      <td>0</td>\n",
       "      <td>Forward</td>\n",
       "      <td>FPT</td>\n",
       "      <td>0.0094</td>\n",
       "    </tr>\n",
       "    <tr>\n",
       "      <th>1</th>\n",
       "      <td>0</td>\n",
       "      <td>Forward</td>\n",
       "      <td>FPT</td>\n",
       "      <td>0.3800</td>\n",
       "    </tr>\n",
       "    <tr>\n",
       "      <th>2</th>\n",
       "      <td>0</td>\n",
       "      <td>Forward</td>\n",
       "      <td>FPT</td>\n",
       "      <td>0.4950</td>\n",
       "    </tr>\n",
       "    <tr>\n",
       "      <th>3</th>\n",
       "      <td>0</td>\n",
       "      <td>Forward</td>\n",
       "      <td>FPT</td>\n",
       "      <td>0.0172</td>\n",
       "    </tr>\n",
       "    <tr>\n",
       "      <th>4</th>\n",
       "      <td>0</td>\n",
       "      <td>Forward</td>\n",
       "      <td>FPT</td>\n",
       "      <td>0.0053</td>\n",
       "    </tr>\n",
       "  </tbody>\n",
       "</table>\n",
       "</div>"
      ],
      "text/plain": [
       "<div>\n",
       "<style>\n",
       "    .dataframe thead tr:only-child th {\n",
       "        text-align: right;\n",
       "    }\n",
       "\n",
       "    .dataframe thead th {\n",
       "        text-align: left;\n",
       "    }\n",
       "\n",
       "    .dataframe tbody tr th {\n",
       "        vertical-align: top;\n",
       "    }\n",
       "</style>\n",
       "<table border=\"1\" class=\"dataframe\">\n",
       "  <thead>\n",
       "    <tr style=\"text-align: right;\">\n",
       "      <th></th>\n",
       "      <th>Box</th>\n",
       "      <th>Direction</th>\n",
       "      <th>variable</th>\n",
       "      <th>FPT (ps)</th>\n",
       "    </tr>\n",
       "  </thead>\n",
       "  <tbody>\n",
       "    <tr>\n",
       "      <th>0</th>\n",
       "      <td>0</td>\n",
       "      <td>Forward</td>\n",
       "      <td>FPT</td>\n",
       "      <td>0.0094</td>\n",
       "    </tr>\n",
       "    <tr>\n",
       "      <th>1</th>\n",
       "      <td>0</td>\n",
       "      <td>Forward</td>\n",
       "      <td>FPT</td>\n",
       "      <td>0.3800</td>\n",
       "    </tr>\n",
       "    <tr>\n",
       "      <th>2</th>\n",
       "      <td>0</td>\n",
       "      <td>Forward</td>\n",
       "      <td>FPT</td>\n",
       "      <td>0.4950</td>\n",
       "    </tr>\n",
       "    <tr>\n",
       "      <th>3</th>\n",
       "      <td>0</td>\n",
       "      <td>Forward</td>\n",
       "      <td>FPT</td>\n",
       "      <td>0.0172</td>\n",
       "    </tr>\n",
       "    <tr>\n",
       "      <th>4</th>\n",
       "      <td>0</td>\n",
       "      <td>Forward</td>\n",
       "      <td>FPT</td>\n",
       "      <td>0.0053</td>\n",
       "    </tr>\n",
       "  </tbody>\n",
       "</table>\n",
       "</div>"
      ]
     },
     "execution_count": 204,
     "metadata": {},
     "output_type": "execute_result"
    }
   ],
   "source": [
    "mdf = pd.melt(allBoxes, id_vars=['Box', 'Direction'], value_vars=['FPT'], value_name='FPT (ps)')\n",
    "mdf.head()"
   ]
  },
  {
   "cell_type": "code",
   "execution_count": 205,
   "metadata": {},
   "outputs": [],
   "source": [
    ""
   ]
  },
  {
   "cell_type": "code",
   "execution_count": 210,
   "metadata": {},
   "outputs": [],
   "source": [
    ""
   ]
  },
  {
   "cell_type": "code",
   "execution_count": 217,
   "metadata": {
    "collapsed": true
   },
   "outputs": [
    {
     "name": "stdout",
     "output_type": "stream",
     "text": [
      "Forward [1.8950909401709424, 0.03872077032810209, 0.005312103888167251, 0.0047073403657696645, 0.004759091329900095, 0.005393000925421203, 0.006575473383911087, 0.00891061611048005, 0.012962356780639875, 0.019434017227199896, 0.07914975188384486, 0.40775888232621527]\nForward std err [0.1350222239126444, 0.001302678947693567, 2.0085948469927652e-06, 2.412792897991342e-06, 3.6303577794327066e-06, 7.338001170624977e-06, 1.5424334918651775e-05, 1.4531352263640187e-05, 2.3650376466264533e-05, 5.6588834183414945e-05, 0.0010163138521444644, 0.021673779400163275]\nBackward [0.03018641970735296, 1.686969820359279, 0.27189504057709624, 0.895215395381387, 0.45229139547711, 0.2964973740241298, 4.171129545454549, 21.960947169811327, 0.6352661462029817, 1.7002625661375668, 0.19804562097971312, 0.13885523438947558]\nBackwrad std error [0.00043750137615915165, 0.12414189067578815, 0.014169142305201369, 0.04531571223489472, 0.015679401355178396, 0.012291753670637203, 0.314424396215795, 3.6061595069658727, 0.023104468891590572, 0.08852153351228872, 0.02126626298852197, 0.00506553661181309]\n"
     ]
    }
   ],
   "source": [
    "print('Forward', mfpts_fwd)\n",
    "print('Forward std err', std_fwd)\n",
    "print('Backward', mfpts_bwd)\n",
    "print('Backwrad std error', std_bwd)"
   ]
  },
  {
   "cell_type": "code",
   "execution_count": 212,
   "metadata": {},
   "outputs": [
    {
     "data": {
      "text/plain": [
       "[1.3412895105426943e-06,\n 12.427341194014767,\n 7.115032164748264,\n 92.68104960563673,\n 10.85978211981332,\n 5.200370552448721,\n 2288.7521737959414,\n 163801.25687723068,\n 3.1850455216445837,\n 20.812730250956523,\n 0.07322328837722987,\n 0.0004819550658299701]"
      ]
     },
     "execution_count": 212,
     "metadata": {},
     "output_type": "execute_result"
    }
   ],
   "source": [
    "import math\n",
    "# formula i calculated. \n",
    "#box_rates_var = [math.pow(m_b / s_b, 2) + (m_b * m_b * s_f * s_f / math.pow(m_f, 4)) for m_f, s_f, m_b, s_b in zip(mfpts_fwd, std_fwd, mfpts_bwd, std_bwd)]\n",
    "# formula from web.\n",
    "box_rates_var = [math.pow(m_b / m_f, 2)*(math.pow(s_f/ m_f, 2) + math.pow(s_b / m_b, 2)) for m_f, s_f, m_b, s_b in zip(mfpts_fwd, std_fwd, mfpts_bwd, std_bwd)]\n",
    "\n",
    "box_rates_var"
   ]
  },
  {
   "cell_type": "code",
   "execution_count": 213,
   "metadata": {},
   "outputs": [],
   "source": [
    "box_rates_std = [math.sqrt(x) for x in box_rates_var]"
   ]
  },
  {
   "cell_type": "code",
   "execution_count": 214,
   "metadata": {},
   "outputs": [
    {
     "name": "stdout",
     "output_type": "stream",
     "text": [
      "[0.015928744667329825, 43.56756867347082, 51.18405932962726, 190.17435023205857, 95.03734308175268, 54.97817970446071, 634.3466548979571, 2464.5823473398636, 49.00853733263947, 87.4889914040971, 2.502163509878746, 0.34053270304578825]\n"
     ]
    }
   ],
   "source": [
    "box_rate = [ m_b / m_f for m_f, m_b in zip(mfpts_fwd, mfpts_bwd)]\n",
    "inv_rates = [ 1 / rate for rate in box_rate]\n",
    "print(box_rate)"
   ]
  },
  {
   "cell_type": "code",
   "execution_count": 215,
   "metadata": {
    "collapsed": true
   },
   "outputs": [
    {
     "data": {
      "image/png": "[encoded data removed]",
      "text/plain": [
       "<matplotlib.figure.Figure at 0x21a458fc780>"
      ]
     },
     "metadata": {},
     "output_type": "display_data"
    }
   ],
   "source": [
    "rates = pd.DataFrame({'Box': range(len(box_rate)), 'Rate': box_rate, 'Inverse Rate': inv_rates, 'Error': box_rates_std })\n",
    "from matplotlib.colors import ListedColormap\n",
    "palette = sns.color_palette()\n",
    "fig, ax = plt.subplots()\n",
    "barlist = ax.bar([x + 1 for x in range(len(box_rate))],box_rate, yerr=box_rates_std)\n",
    "for bar, color in zip(barlist, palette):\n",
    "    bar.set_color(color)\n",
    "ax.set_yscale('log')\n",
    "plt.show()"
   ]
  },
  {
   "cell_type": "markdown",
   "metadata": {},
   "source": [
    "## Calculate error on box free energies"
   ]
  },
  {
   "cell_type": "code",
   "execution_count": 180,
   "metadata": {},
   "outputs": [
    {
     "name": "stdout",
     "output_type": "stream",
     "text": [
      "[0.0052863927633650075, 0.006547139179056081, 0.0027158602295772353, 0.002562636817273138, 0.0012023545168697394, 0.0017204956439186318, 0.005687814993121556, 0.02696687132323588, 0.0013260874396219828, 0.0027190815665263, 0.011695474761189128, 0.004156127843439732]\n[0.         0.04334544 0.06485164 0.07190948 0.07798561 0.08067889\n 0.08438342 0.0956141  0.13684409 0.13855543 0.14199997 0.15595082\n 0.16061688]\n"
     ]
    }
   ],
   "source": [
    "box_free_energy_var = [math.pow(1 / m_f, 2)*math.pow(s_f, 2) + math.pow(1 / m_b, 2)*math.pow(s_b, 2) for m_f, s_f, m_b, s_b in zip(mfpts_fwd, std_fwd, mfpts_bwd, std_bwd)]\n",
    "print(box_free_energy_var)\n",
    "\n",
    "# compute standard error of each box free energy difference\n",
    "box_energy_std = [math.sqrt(v) for v in box_free_energy_var]\n",
    "# compute cumulative box_free_energy std deviation.\n",
    "# via sqrt of summation of previous square of error for each box\n",
    "box_energy_std_cuml = np.array([math.sqrt(v) for v in np.cumsum(box_free_energy_var)])\n",
    "box_energy_std_cuml =  np.insert(box_energy_std_cuml, 0, 0)\n",
    "# convert to kcal/mol.\n",
    "box_energy_std_cuml = 0.5961612401 * box_energy_std_cuml\n",
    "print(box_energy_std_cuml)"
   ]
  },
  {
   "cell_type": "code",
   "execution_count": 182,
   "metadata": {},
   "outputs": [
    {
     "name": "stdout",
     "output_type": "stream",
     "text": [
      "free energy diffs: [4.139629961220547, -3.77431303580597, -3.935428142350684, -5.247941284193146, -4.5542698994340896, -4.006936373867028, -6.4525955792976095, -7.809777638993568, -3.8919945142124925, -4.471512972923903, -0.9171557615795534, 1.0772441138171804]\n[  0.           2.46788693   0.21778779  -2.12836193  -5.25698111\n  -7.97206031 -10.36084046 -14.20762785 -18.86351457 -21.18377084\n -23.84951356 -24.39628628 -23.75407509]\n"
     ]
    },
    {
     "data": {
      "image/png": "[encoded data removed]",
      "text/plain": [
       "<matplotlib.figure.Figure at 0x219e7427710>"
      ]
     },
     "metadata": {},
     "output_type": "display_data"
    }
   ],
   "source": [
    "box_free_energy_diff = [-1.0 * math.log(Keq) for Keq in box_rate]\n",
    "print('free energy diffs:', box_free_energy_diff)\n",
    "box_free_energy = np.cumsum(box_free_energy_diff)\n",
    "box_free_energy = np.insert(box_free_energy, 0, 0)\n",
    "# conver to kcal / mol\n",
    "box_free_energy = 0.5961612401 * box_free_energy\n",
    "print(box_free_energy)\n"
   ]
  },
  {
   "cell_type": "code",
   "execution_count": 195,
   "metadata": {},
   "outputs": [
    {
     "data": {
      "image/png": "[encoded data removed]",
      "text/plain": [
       "<matplotlib.figure.Figure at 0x21a3ee8bbe0>"
      ]
     },
     "metadata": {},
     "output_type": "display_data"
    }
   ],
   "source": [
    "f, (ax1, ax2) = plt.subplots(2, size=)\n",
    "ax = sns.boxplot(x = \"Box\", y=\"FPT (ps)\",  hue=\"Direction\", data=mdf, ax=ax1)\n",
    "ax.set_yscale('log')\n",
    "ax2.errorbar([x for x in range(len(box_rate)+1)], box_free_energy, yerr=box_energy_std_cuml)\n",
    "plt.show()\n"
   ]
  },
  {
   "cell_type": "code",
   "execution_count": null,
   "metadata": {},
   "outputs": [],
   "source": []
  }
 ],
 "metadata": {
  "kernelspec": {
   "display_name": "Python 3",
   "language": "python",
   "name": "python3"
  },
  "language_info": {
   "codemirror_mode": {
    "name": "ipython",
    "version": 3
   },
   "file_extension": ".py",
   "mimetype": "text/x-python",
   "name": "python",
   "nbconvert_exporter": "python",
   "pygments_lexer": "ipython3",
   "version": "3.6.1"
  }
 },
 "nbformat": 4,
 "nbformat_minor": 1
}
