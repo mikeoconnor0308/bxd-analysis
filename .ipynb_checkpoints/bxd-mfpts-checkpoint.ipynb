{
 "cells": [
  {
   "cell_type": "code",
   "execution_count": 4,
   "metadata": {
    "collapsed": true
   },
   "outputs": [],
   "source": [
    "import pandas as pd\n",
    "import numpy as np\n",
    "from matplotlib import pyplot as plt\n",
    "import seaborn as sns\n",
    "import math"
   ]
  },
  {
   "cell_type": "code",
   "execution_count": 5,
   "metadata": {
    "collapsed": true
   },
   "outputs": [],
   "source": [
    "path = r\"C:\\Users\\Mike.DESKTOP-CA70LTI\\Google Drive\\PhD\\BXD\\applications\\EVB_HF\\rxnSystemOnly\\jacobian\\20_friction\\analysis\\FPT_arrays\"\n"
   ]
  },
  {
   "cell_type": "code",
   "execution_count": 6,
   "metadata": {},
   "outputs": [],
   "source": [
    "allBoxes = pd.DataFrame() #creates a new dataframe that's empty\n",
    "mfpts_fwd = []\n",
    "mfpts_bwd = [] \n",
    "std_fwd = [] \n",
    "std_bwd = []\n",
    "for box in range(0, 11):\n",
    "    box_forward = \"{}to{}\".format(box, box + 1)\n",
    "    box_back = \"{}to{}\".format(box, box - 1)\n",
    "    fwd_fpts = pd.read_csv(path + \"\\\\\" + box_forward + \".txt\", header=None,\n",
    "                           names=['FPT']).assign(Direction=\"Forward\", Box=box)\n",
    "    bkd_fpts = pd.read_csv(path + \"\\\\\" + box_back + \".txt\", header=None,\n",
    "                           names=['FPT']).assign(Direction=\"Backward\", Box=box)\n",
    "    \n",
    "    mfpts_fwd.append(np.mean(fwd_fpts[\"FPT\"]))\n",
    "    mfpts_bwd.append(np.mean(bkd_fpts[\"FPT\"]))\n",
    "    std_fwd.append(np.std(fwd_fpts[\"FPT\"]) / math.sqrt(float(len(fwd_fpts))))\n",
    "    std_bwd.append(np.std(bkd_fpts[\"FPT\"]) / math.sqrt(float(len(bkd_fpts))))\n",
    "    allBoxes = pd.concat([allBoxes, fwd_fpts, bkd_fpts])\n",
    "    "
   ]
  },
  {
   "cell_type": "code",
   "execution_count": 7,
   "metadata": {},
   "outputs": [
    {
     "data": {
      "text/html": [
       "<div>\n",
       "<style>\n",
       "    .dataframe thead tr:only-child th {\n",
       "        text-align: right;\n",
       "    }\n",
       "\n",
       "    .dataframe thead th {\n",
       "        text-align: left;\n",
       "    }\n",
       "\n",
       "    .dataframe tbody tr th {\n",
       "        vertical-align: top;\n",
       "    }\n",
       "</style>\n",
       "<table border=\"1\" class=\"dataframe\">\n",
       "  <thead>\n",
       "    <tr style=\"text-align: right;\">\n",
       "      <th></th>\n",
       "      <th>Box</th>\n",
       "      <th>Direction</th>\n",
       "      <th>variable</th>\n",
       "      <th>FPT</th>\n",
       "    </tr>\n",
       "  </thead>\n",
       "  <tbody>\n",
       "    <tr>\n",
       "      <th>0</th>\n",
       "      <td>0</td>\n",
       "      <td>Forward</td>\n",
       "      <td>FPT</td>\n",
       "      <td>5119.0</td>\n",
       "    </tr>\n",
       "    <tr>\n",
       "      <th>1</th>\n",
       "      <td>0</td>\n",
       "      <td>Forward</td>\n",
       "      <td>FPT</td>\n",
       "      <td>230.0</td>\n",
       "    </tr>\n",
       "    <tr>\n",
       "      <th>2</th>\n",
       "      <td>0</td>\n",
       "      <td>Forward</td>\n",
       "      <td>FPT</td>\n",
       "      <td>46291.0</td>\n",
       "    </tr>\n",
       "    <tr>\n",
       "      <th>3</th>\n",
       "      <td>0</td>\n",
       "      <td>Forward</td>\n",
       "      <td>FPT</td>\n",
       "      <td>84.0</td>\n",
       "    </tr>\n",
       "    <tr>\n",
       "      <th>4</th>\n",
       "      <td>0</td>\n",
       "      <td>Forward</td>\n",
       "      <td>FPT</td>\n",
       "      <td>53935.0</td>\n",
       "    </tr>\n",
       "  </tbody>\n",
       "</table>\n",
       "</div>"
      ],
      "text/plain": [
       "   Box Direction variable      FPT\n",
       "0    0   Forward      FPT   5119.0\n",
       "1    0   Forward      FPT    230.0\n",
       "2    0   Forward      FPT  46291.0\n",
       "3    0   Forward      FPT     84.0\n",
       "4    0   Forward      FPT  53935.0"
      ]
     },
     "execution_count": 7,
     "metadata": {},
     "output_type": "execute_result"
    }
   ],
   "source": [
    "mdf = pd.melt(allBoxes, id_vars=['Box', 'Direction'], value_vars=['FPT'], value_name='FPT')\n",
    "mdf.head()"
   ]
  },
  {
   "cell_type": "code",
   "execution_count": 8,
   "metadata": {},
   "outputs": [
    {
     "data": {
      "image/png": "[encoded data removed]",
      "text/plain": [
       "<matplotlib.figure.Figure at 0x18d0d562eb8>"
      ]
     },
     "metadata": {},
     "output_type": "display_data"
    }
   ],
   "source": [
    "ax = sns.boxplot(x = \"Box\", y=\"FPT\", hue=\"Direction\", data=mdf)\n",
    "ax.set_yscale('log')\n",
    "plt.show()"
   ]
  },
  {
   "cell_type": "code",
   "execution_count": 9,
   "metadata": {
    "collapsed": true
   },
   "outputs": [],
   "source": [
    "plt.close()"
   ]
  },
  {
   "cell_type": "code",
   "execution_count": null,
   "metadata": {
    "collapsed": true
   },
   "outputs": [],
   "source": [
    "ax = sns.pointplot(x = \"Box\", y=\"FPT\", hue=\"Direction\", data=mdf)\n",
    "ax.set_yscale('log')\n",
    "plt.show()"
   ]
  },
  {
   "cell_type": "code",
   "execution_count": null,
   "metadata": {
    "collapsed": true
   },
   "outputs": [],
   "source": [
    "plt.close()"
   ]
  },
  {
   "cell_type": "code",
   "execution_count": 26,
   "metadata": {},
   "outputs": [
    {
     "data": {
      "text/plain": [
       "[9.911166673160417e-07,\n",
       " 0.016583206665454223,\n",
       " 947.693336673967,\n",
       " 442.45730269197674,\n",
       " 1254.2256889425475,\n",
       " 321.92519331041416,\n",
       " 1410.6236074179767,\n",
       " 410.68858596686823,\n",
       " 67.64447300307098,\n",
       " 4.783729694376976,\n",
       " 1.91291786462213e-06]"
      ]
     },
     "execution_count": 26,
     "metadata": {},
     "output_type": "execute_result"
    }
   ],
   "source": [
    "import math\n",
    "# formula i calculated. \n",
    "#box_rates_var = [math.pow(m_b / s_b, 2) + (m_b * m_b * s_f * s_f / math.pow(m_f, 4)) for m_f, s_f, m_b, s_b in zip(mfpts_fwd, std_fwd, mfpts_bwd, std_bwd)]\n",
    "# formula from web.\n",
    "box_rates_var = [math.pow(m_b / m_f, 2)*(math.pow(s_f/ m_f, 2) + math.pow(s_b / m_b, 2)) for m_f, s_f, m_b, s_b in zip(mfpts_fwd, std_fwd, mfpts_bwd, std_bwd)]\n",
    "\n",
    "box_rates_var"
   ]
  },
  {
   "cell_type": "code",
   "execution_count": 27,
   "metadata": {},
   "outputs": [
    {
     "data": {
      "text/plain": [
       "[1206.2157854505163,\n",
       " 39.655497425541256,\n",
       " 0.007756025052836236,\n",
       " 0.014299891565300184,\n",
       " 0.01990306624583869,\n",
       " 0.05472360419498705,\n",
       " 0.07316596592335416,\n",
       " 0.15851906278975325,\n",
       " 0.4983153901217884,\n",
       " 16.435988617597854,\n",
       " 1181.7816665862604]"
      ]
     },
     "execution_count": 27,
     "metadata": {},
     "output_type": "execute_result"
    }
   ],
   "source": [
    "std_fwd"
   ]
  },
  {
   "cell_type": "code",
   "execution_count": 28,
   "metadata": {},
   "outputs": [
    {
     "data": {
      "text/plain": [
       "[5.608442381567671,\n",
       " 12.503959178759466,\n",
       " 1564.1542965532904,\n",
       " 982.9662333458067,\n",
       " 1793.15905402656,\n",
       " 1316.8097395747573,\n",
       " 4799.941821627054,\n",
       " 4539.485546367512,\n",
       " 2454.8481447221234,\n",
       " 5887.7267726661385,\n",
       " 2.7203910169369103]"
      ]
     },
     "execution_count": 28,
     "metadata": {},
     "output_type": "execute_result"
    }
   ],
   "source": [
    "std_bwd"
   ]
  },
  {
   "cell_type": "code",
   "execution_count": 29,
   "metadata": {},
   "outputs": [
    {
     "name": "stdout",
     "output_type": "stream",
     "text": [
      "[0.027711123418437737, 0.8915485457727989, 715.1341591931574, 425.66412321268444, 1095.1984244970404, 595.8410595958821, 1283.2949032262532, 631.7615095262987, 237.35724946521745, 39.73591790311329, 0.021616062909354007]\n"
     ]
    }
   ],
   "source": [
    "box_rate = [ m_b / m_f for m_f, m_b in zip(mfpts_fwd, mfpts_bwd)]\n",
    "print(box_rate)"
   ]
  },
  {
   "cell_type": "code",
   "execution_count": null,
   "metadata": {
    "collapsed": true
   },
   "outputs": [],
   "source": []
  }
 ],
 "metadata": {
  "kernelspec": {
   "display_name": "Python 3",
   "language": "python",
   "name": "python3"
  },
  "language_info": {
   "codemirror_mode": {
    "name": "ipython",
    "version": 3
   },
   "file_extension": ".py",
   "mimetype": "text/x-python",
   "name": "python",
   "nbconvert_exporter": "python",
   "pygments_lexer": "ipython3",
   "version": "3.6.1"
  }
 },
 "nbformat": 4,
 "nbformat_minor": 1
}
